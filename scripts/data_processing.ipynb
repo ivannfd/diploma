{
  "cells": [
    {
      "cell_type": "markdown",
      "metadata": {
        "id": "aJhkN9AzL9DG"
      },
      "source": [
        "# **Обработка данных**"
      ]
    },
    {
      "cell_type": "code",
      "execution_count": null,
      "metadata": {
        "execution": {
          "iopub.execute_input": "2024-05-05T09:22:22.996472Z",
          "iopub.status.busy": "2024-05-05T09:22:22.995962Z",
          "iopub.status.idle": "2024-05-05T09:22:23.330311Z",
          "shell.execute_reply": "2024-05-05T09:22:23.329602Z",
          "shell.execute_reply.started": "2024-05-05T09:22:22.996432Z"
        },
        "id": "rxx-dNWpN7YC"
      },
      "outputs": [],
      "source": [
        "import math\n",
        "import numpy as np\n",
        "import pandas as pd\n",
        "from matplotlib import pyplot as plt\n",
        "from skimage.io import imread\n",
        "from datetime import datetime, timedelta\n",
        "from zipfile import ZipFile\n",
        "from PIL import ImageFile\n",
        "ImageFile.LOAD_TRUNCATED_IMAGES = True"
      ]
    },
    {
      "cell_type": "markdown",
      "metadata": {
        "id": "9jOzRYJTPglY"
      },
      "source": [
        "Находим нужную строку и столбец, содержащие информацию об эпицентре землетрясения"
      ]
    },
    {
      "cell_type": "code",
      "execution_count": null,
      "metadata": {
        "execution": {
          "iopub.execute_input": "2024-05-05T09:22:23.853984Z",
          "iopub.status.busy": "2024-05-05T09:22:23.853083Z",
          "iopub.status.idle": "2024-05-05T09:22:23.864742Z",
          "shell.execute_reply": "2024-05-05T09:22:23.864017Z",
          "shell.execute_reply.started": "2024-05-05T09:22:23.853939Z"
        },
        "id": "PXQMnPt6MEBY"
      },
      "outputs": [],
      "source": [
        "def find_a_place(image, latitude, longitude):\n",
        "\n",
        "    if latitude >= 0:\n",
        "        string = math.floor(image.shape[0] / 2 * (90 - latitude) / 90)\n",
        "    else:\n",
        "        string = math.floor(-image.shape[0] / 2 * latitude / 90 + image.shape[0] / 2)\n",
        "\n",
        "    if longitude >= 0:\n",
        "        column = math.floor(image.shape[1] / 2 * (longitude) / 180 + image.shape[1] / 2)\n",
        "    else:\n",
        "        column = math.floor(image.shape[1] / 2 * (180 + longitude) / 180)\n",
        "\n",
        "    return string, column\n"
      ]
    },
    {
      "cell_type": "markdown",
      "metadata": {
        "id": "iwjrXV6H2-hU"
      },
      "source": [
        "Находим зону землетрясения (это будет прямоугольник)"
      ]
    },
    {
      "cell_type": "code",
      "execution_count": null,
      "metadata": {
        "execution": {
          "iopub.execute_input": "2024-05-05T09:22:46.379985Z",
          "iopub.status.busy": "2024-05-05T09:22:46.379181Z",
          "iopub.status.idle": "2024-05-05T09:22:46.397118Z",
          "shell.execute_reply": "2024-05-05T09:22:46.396372Z",
          "shell.execute_reply.started": "2024-05-05T09:22:46.379947Z"
        },
        "id": "MyJqXn0g2-p1"
      },
      "outputs": [],
      "source": [
        "def get_earthquake_zone(image, latitude, longitude, magnitude):\n",
        "\n",
        "    length = math.floor(10 ** (0.43 * magnitude) / 111.1 * image.shape[0] / 180)\n",
        "    width = math.floor(10 ** (0.43 * magnitude) / (111.1 * math.cos(latitude * math.pi / 180)) * (image.shape[1] / 360))\n",
        "\n",
        "    string, column = find_a_place(image, latitude, longitude)\n",
        "\n",
        "    if (string - length < 0) or (string + length >= image.shape[0]) or (column - width < 0) or (column + width >= image.shape[1]):\n",
        "        return None\n",
        "\n",
        "    return image[string - length : string + length, column - width : column + width, 0:3]"
      ]
    },
    {
      "cell_type": "markdown",
      "metadata": {
        "id": "4jAgdD-13nqc"
      },
      "source": [
        "Переводим каждый цвет в единицу Добсона согласно шкале измерения"
      ]
    },
    {
      "cell_type": "code",
      "execution_count": null,
      "metadata": {
        "execution": {
          "iopub.execute_input": "2024-05-05T09:22:50.482458Z",
          "iopub.status.busy": "2024-05-05T09:22:50.481617Z",
          "iopub.status.idle": "2024-05-05T09:22:50.493690Z",
          "shell.execute_reply": "2024-05-05T09:22:50.492758Z",
          "shell.execute_reply.started": "2024-05-05T09:22:50.482415Z"
        },
        "id": "GcfBeSYC3dX2"
      },
      "outputs": [],
      "source": [
        "DobsonUnit = {\n",
        "    (156, 205, 205) : 100,\n",
        "    (98, 156, 156) : 125,\n",
        "    (255, 0, 255) : 150,\n",
        "    (131, 98, 255) : 175,\n",
        "    (98, 156, 255) : 200,\n",
        "    (123, 205, 255) : 225,\n",
        "    (156, 255, 255) : 250,\n",
        "    (205, 255, 205) : 275,\n",
        "    (0, 255, 0) : 300,\n",
        "    (156, 255, 0) : 325,\n",
        "    (205, 255, 98) : 350,\n",
        "    (255, 255, 156) : 375,\n",
        "    (255, 255, 0) : 400,\n",
        "    (255, 205, 0) : 425,\n",
        "    (255, 156, 98) : 450,\n",
        "    (255, 98, 0) : 475,\n",
        "    (255, 0, 0) : 500,\n",
        "    (156, 0, 205) : 525,\n",
        "    (205, 98, 205) : 550,\n",
        "    (255, 156, 205) : 575,\n",
        "    (255, 205, 205) : 600\n",
        "}"
      ]
    },
    {
      "cell_type": "markdown",
      "metadata": {
        "id": "qgYAhCMY4y0C"
      },
      "source": [
        "Вычисляем среднее значение толщины озонового слоя в данной области в DU"
      ]
    },
    {
      "cell_type": "code",
      "execution_count": null,
      "metadata": {
        "execution": {
          "iopub.execute_input": "2024-05-05T09:22:52.913325Z",
          "iopub.status.busy": "2024-05-05T09:22:52.912560Z",
          "iopub.status.idle": "2024-05-05T09:22:52.925258Z",
          "shell.execute_reply": "2024-05-05T09:22:52.924490Z",
          "shell.execute_reply.started": "2024-05-05T09:22:52.913285Z"
        },
        "id": "efb2_DSf4PYl"
      },
      "outputs": [],
      "source": [
        "def get_dobson_unit(image):\n",
        "\n",
        "    sum = 0;\n",
        "    count = 0;\n",
        "    for i in range(image.shape[0]):\n",
        "        for j in range(image.shape[1]):\n",
        "            color = (image[i][j][0], image[i][j][1], image[i][j][2])\n",
        "            if color in DobsonUnit:\n",
        "                sum += DobsonUnit[color]\n",
        "                count += 1\n",
        "    if count > 0:\n",
        "        return round(sum / count, 2)\n",
        "    else:\n",
        "        return None"
      ]
    },
    {
      "cell_type": "markdown",
      "metadata": {
        "id": "XD7HAtH0-A3b"
      },
      "source": [
        "Для каждого землетрясения рассчитываем значение толщины озонового слоя в зоне  землетрясения за 10 дней до землетрясения. Если для какого-то из дней не было найдено озоновой карты, то данное землетрясение удаляем из рассмотрения"
      ]
    },
    {
      "cell_type": "code",
      "execution_count": null,
      "metadata": {
        "id": "43n8AIHu96dt"
      },
      "outputs": [],
      "source": [
        "data = pd.read_csv('./earthquakes.csv')\n",
        "data['-10_days'] = -1\n",
        "data['-9_days'] = -1\n",
        "data['-8_days'] = -1\n",
        "data['-7_days'] = -1\n",
        "data['-6_days'] = -1\n",
        "data['-5_days'] = -1\n",
        "data['-4_days'] = -1\n",
        "data['-3_days'] = -1\n",
        "data['-2_days'] = -1\n",
        "data['-1_days'] = -1\n",
        "data['0_days'] = -1"
      ]
    },
    {
      "cell_type": "code",
      "execution_count": null,
      "metadata": {
        "id": "AAdeKEWO96ji"
      },
      "outputs": [],
      "source": [
        "for i in range(data.shape[0]):\n",
        "\n",
        "    count_date = data.iloc[i]['time'][0:10]\n",
        "    dobson_unit_list = []\n",
        "\n",
        "    for j in range(-10, -1):\n",
        "        start_date = datetime(int(count_date[0:4]), int(count_date[5:7]), int(count_date[8:10]))\n",
        "        if j < 0:\n",
        "            result_date = str(start_date - timedelta(days=-j))[0:10].replace('-', '')\n",
        "        else:\n",
        "            result_date = str(start_date + timedelta(days=j))[0:10].replace('-', '')\n",
        "\n",
        "        # находим нужную озоновую карту\n",
        "        image = None\n",
        "        with ZipFile(\"ozone_maps.zip\", \"r\") as myzip:\n",
        "            for item in myzip.infolist():\n",
        "                if item.filename[-12:-4] == result_date:\n",
        "                    image = imread('ozone_maps.zip/' + item.filename)\n",
        "                    image = image[58:598, 36:910, 0:3]\n",
        "\n",
        "        if image is None:\n",
        "            break\n",
        "\n",
        "        # выделяем на ней зону землетрясения\n",
        "        earthquake_zone = get_earthquake_zone(image, data.iloc[i]['latitude'], data.iloc[i]['longitude'], data.iloc[i]['mag'])\n",
        "\n",
        "        if earthquake_zone is None:\n",
        "            break\n",
        "\n",
        "        # считаем значение толщины  озонового слоя в зоне землетрясения\n",
        "        dobson_unit = get_dobson_unit(earthquake_zone)\n",
        "\n",
        "        if dobson_unit is None:\n",
        "            break\n",
        "\n",
        "        dobson_unit_list.append(dobson_unit)\n",
        "\n",
        "    # если для всех дней найдены озоновые карты, и получено значение толщины озонового слоя, то обновляем data\n",
        "    if len(dobson_unit_list) == 11:\n",
        "        for j in range(11):\n",
        "            data.iloc[i, j+5] = dobson_unit_list[j]\n",
        "\n",
        "# оставляем только нужные землетрясения\n",
        "data = data[data['-10_days'] != -1]"
      ]
    },
    {
      "cell_type": "markdown",
      "metadata": {
        "id": "A9R1XI37VAeu"
      },
      "source": [
        "# **Генерация точек наблюдений, в которых землетрясения не регистрировались**"
      ]
    },
    {
      "cell_type": "code",
      "execution_count": null,
      "metadata": {
        "id": "cFmHej7rTwjD"
      },
      "outputs": [],
      "source": [
        "import random"
      ]
    },
    {
      "cell_type": "code",
      "execution_count": null,
      "metadata": {
        "id": "0qs51VqeW9BO"
      },
      "outputs": [],
      "source": [
        "data = pd.read_csv('./earthquakes.csv')\n",
        "# для поиска нужных озоновых карт меняем формат представления столбца 'time'\n",
        "data['new_time'] = data['time'].apply(lambda x: str(x[0:10]).replace('-', ''))\n",
        "data.drop(columns='time', inplace=True)"
      ]
    },
    {
      "cell_type": "markdown",
      "metadata": {
        "id": "9dnk4D8WNeqD"
      },
      "source": [
        "Проверяем, лежит ли наша точка в зоне какого-нибудь землетрясения"
      ]
    },
    {
      "cell_type": "code",
      "execution_count": null,
      "metadata": {
        "id": "ffUVUzwhW9Rp"
      },
      "outputs": [],
      "source": [
        "def check_earthquake_zone(latitude, longitude, magnitude, checked_latitude, checked_longitude):\n",
        "\n",
        "    length = 10 ** (0.43 * magnitude) / 111.1\n",
        "    width = 10 ** (0.43 * magnitude) / (111.1 * math.cos(latitude * math.pi / 180))\n",
        "\n",
        "    if latitude - length <= checked_latitude <= latitude + length and longitude - width <= checked_longitude <= longitude + width:\n",
        "        return False\n",
        "\n",
        "    return True\n",
        "\n"
      ]
    },
    {
      "cell_type": "markdown",
      "metadata": {
        "id": "X1gqo63UPaVA"
      },
      "source": [
        "Создаем набор данных, в который будем добавлять сгенерированные точки"
      ]
    },
    {
      "cell_type": "code",
      "execution_count": null,
      "metadata": {
        "execution": {
          "iopub.execute_input": "2024-05-05T09:23:14.858878Z",
          "iopub.status.busy": "2024-05-05T09:23:14.858318Z",
          "iopub.status.idle": "2024-05-05T09:23:14.934936Z",
          "shell.execute_reply": "2024-05-05T09:23:14.934238Z",
          "shell.execute_reply.started": "2024-05-05T09:23:14.858838Z"
        },
        "id": "7NRkbdaVOTtj"
      },
      "outputs": [],
      "source": [
        "number_of_points = 16000\n",
        "\n",
        "data_without_earthquaks = pd.DataFrame(\n",
        "    [{'date': 'a',\n",
        "      'latitude' : 0,\n",
        "      'longitude' : 0,\n",
        "      '-10_days' : 0,\n",
        "      '-9_days' : 0,\n",
        "      '-8_days' : 0,\n",
        "      '-7_days' : 0,\n",
        "      '-6_days' : 0,\n",
        "      '-5_days' : 0,\n",
        "      '-4_days' : 0,\n",
        "      '-3_days' : 0,\n",
        "      '-2_days' : 0,\n",
        "      '-1_days' : 0,\n",
        "      '0_days' : 0,\n",
        "      }] * number_of_points\n",
        "    )"
      ]
    },
    {
      "cell_type": "code",
      "execution_count": null,
      "metadata": {
        "id": "KydU0LdjQd70"
      },
      "outputs": [],
      "source": [
        "current_number = 0\n",
        "random.seed(42)\n",
        "\n",
        "while current_number < number_of_points:\n",
        "\n",
        "    flag = True\n",
        "\n",
        "    year = random.randint(2015, 2023)\n",
        "    month = random.randint(1, 12)\n",
        "    day = random.randint(1, 28)\n",
        "    date = datetime(year, month, day)\n",
        "    latitude = random.randint(-90, 89) + random.random()\n",
        "    longitude = random.randint(-180, 179) + random.random()\n",
        "\n",
        "    dobson_unit_list = []\n",
        "\n",
        "    for j in range(-10, 1):\n",
        "        if j < 0:\n",
        "            result_date = str(date - timedelta(days=-j))[0:10].replace('-', '')\n",
        "        else:\n",
        "            result_date = str(date + timedelta(days=j))[0:10].replace('-', '')\n",
        "\n",
        "        # находим нужную озоновую карту\n",
        "        image = None\n",
        "        with ZipFile(\"ozone_maps.zip\", \"r\") as myzip:\n",
        "            for item in myzip.infolist():\n",
        "                if item.filename[-12:-4] == result_date:\n",
        "                    image = imread('ozone_maps.zip/' + item.filename)\n",
        "                    image = image[58:598, 36:910, 0:3]\n",
        "\n",
        "        if image is None:\n",
        "            break\n",
        "\n",
        "        # находим все землетрясения, которые произошли в эту дату\n",
        "        current_data = data[data['new_time'] == result_date]\n",
        "\n",
        "        # проверяем, чтобы сгенерированная точка не лежала ни в какой из этих зон землетрясений\n",
        "        for j in range(current_data.shape[0]):\n",
        "            if not check_earthquake_zone(current_data.iloc[j]['latitude'], current_data.iloc[j]['longitude'],\\\n",
        "                                         current_data.iloc[j]['mag'], latitude, longitude):\n",
        "                flag = False\n",
        "                break\n",
        "\n",
        "        # если флаг опустился, то точка нам не подходит\n",
        "        if not flag:\n",
        "            break\n",
        "\n",
        "        # выделяем область, где будем считать значение толщины озонового слоя\n",
        "        not_earthquake_zone = get_earthquake_zone(image, latitude, longitude, 5.0)\n",
        "\n",
        "        if not_earthquake_zone is None:\n",
        "            break\n",
        "\n",
        "        # считаем толщину озонового слоя\n",
        "        dobson_unit = get_dobson_unit(not_earthquake_zone)\n",
        "\n",
        "        if dobson_unit is None:\n",
        "            break\n",
        "\n",
        "        dobson_unit_list.append(dobson_unit)\n",
        "\n",
        "    # если для всех дней условие выполняется, то добавляем взятую точку в наш датасет\n",
        "    if len(dobson_unit_list) == 11:\n",
        "        data_without_earthquaks.iloc[current_number, 0] = date\n",
        "        data_without_earthquaks.iloc[current_number, 1] = latitude\n",
        "        data_without_earthquaks.iloc[current_number, 2] = longitude\n",
        "\n",
        "        for j in range(11):\n",
        "            data_without_earthquaks.iloc[current_number, j+3] = dobson_unit_list[j]\n",
        "\n",
        "        current_number += 1\n"
      ]
    }
  ],
  "metadata": {
    "colab": {
      "provenance": []
    },
    "kernelspec": {
      "display_name": "DataSphere Kernel",
      "language": "python",
      "name": "python3"
    },
    "language_info": {
      "codemirror_mode": {
        "name": "ipython",
        "version": 3
      },
      "file_extension": ".py",
      "mimetype": "text/x-python",
      "name": "python",
      "nbconvert_exporter": "python",
      "pygments_lexer": "ipython3",
      "version": "3.10.12"
    }
  },
  "nbformat": 4,
  "nbformat_minor": 0
}