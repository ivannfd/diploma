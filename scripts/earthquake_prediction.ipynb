{
 "cells": [
  {
   "cell_type": "code",
   "execution_count": 1,
   "metadata": {
    "execution": {
     "iopub.execute_input": "2024-05-14T22:30:56.701035Z",
     "iopub.status.busy": "2024-05-14T22:30:56.700220Z",
     "iopub.status.idle": "2024-05-14T22:30:57.303066Z",
     "shell.execute_reply": "2024-05-14T22:30:57.302227Z",
     "shell.execute_reply.started": "2024-05-14T22:30:56.700984Z"
    },
    "id": "62SPNAWJPy5G",
    "tags": []
   },
   "outputs": [],
   "source": [
    "import pandas as pd\n",
    "import numpy as np\n",
    "import matplotlib.pyplot as plt\n",
    "from sklearn.model_selection import train_test_split\n",
    "from sklearn.linear_model import LogisticRegression\n",
    "from sklearn.neighbors import KNeighborsClassifier\n",
    "from sklearn.ensemble import RandomForestClassifier\n",
    "from sklearn.ensemble import GradientBoostingClassifier\n",
    "from sklearn.metrics import f1_score, accuracy_score, precision_score, recall_score\n",
    "from sklearn.model_selection import GridSearchCV, cross_val_score"
   ]
  },
  {
   "cell_type": "markdown",
   "metadata": {
    "id": "2kFufAYLRMK9"
   },
   "source": [
    "**Логистическая регрессия**"
   ]
  },
  {
   "cell_type": "code",
   "execution_count": 2,
   "metadata": {
    "execution": {
     "iopub.execute_input": "2024-05-14T22:31:09.320275Z",
     "iopub.status.busy": "2024-05-14T22:31:09.319235Z",
     "iopub.status.idle": "2024-05-14T22:31:09.339762Z",
     "shell.execute_reply": "2024-05-14T22:31:09.338985Z",
     "shell.execute_reply.started": "2024-05-14T22:31:09.320230Z"
    },
    "id": "AOESZyeQRUC1",
    "tags": []
   },
   "outputs": [],
   "source": [
    "def logistic_regression(X, y):\n",
    "\n",
    "    X_train, X_test, y_train, y_test =\\\n",
    "     train_test_split(X, y, test_size=0.2, random_state=42)\n",
    "\n",
    "    model = LogisticRegression(max_iter=1000)\n",
    "    model.fit(X_train, y_train)\n",
    "\n",
    "    y_pred = model.predict(X_test)\n",
    "\n",
    "    accuracy = accuracy_score(y_test, y_pred)\n",
    "    precision = precision_score(y_test, y_pred)\n",
    "    recall = recall_score(y_test, y_pred)\n",
    "    f1 = f1_score(y_test, y_pred)\n",
    "\n",
    "    return accuracy, precision, recall, f1\n"
   ]
  },
  {
   "cell_type": "markdown",
   "metadata": {
    "id": "d2YwbLjTSTf_"
   },
   "source": [
    "**Метод к-ближайших соседей**"
   ]
  },
  {
   "cell_type": "code",
   "execution_count": 3,
   "metadata": {
    "execution": {
     "iopub.execute_input": "2024-05-14T22:31:17.593582Z",
     "iopub.status.busy": "2024-05-14T22:31:17.592884Z",
     "iopub.status.idle": "2024-05-14T22:31:17.614581Z",
     "shell.execute_reply": "2024-05-14T22:31:17.613916Z",
     "shell.execute_reply.started": "2024-05-14T22:31:17.593540Z"
    },
    "id": "4BfnpwDqSTCU",
    "tags": []
   },
   "outputs": [],
   "source": [
    "def knn(X, y):\n",
    "\n",
    "    X_train, X_test, y_train, y_test =\\\n",
    "     train_test_split(X, y, test_size=0.2, random_state=42)\n",
    "\n",
    "    model = KNeighborsClassifier(n_neighbors=5)\n",
    "    model.fit(X_train, y_train)\n",
    "\n",
    "    y_pred = model.predict(X_test)\n",
    "\n",
    "    accuracy = accuracy_score(y_test, y_pred)\n",
    "    precision = precision_score(y_test, y_pred)\n",
    "    recall = recall_score(y_test, y_pred)\n",
    "    f_score = f1_score(y_test, y_pred)\n",
    "\n",
    "    return accuracy, precision, recall, f_score"
   ]
  },
  {
   "cell_type": "markdown",
   "metadata": {
    "id": "c4WIclH9Ulu0"
   },
   "source": [
    "**Случайный лес**"
   ]
  },
  {
   "cell_type": "code",
   "execution_count": 4,
   "metadata": {
    "execution": {
     "iopub.execute_input": "2024-05-14T22:31:22.401171Z",
     "iopub.status.busy": "2024-05-14T22:31:22.400277Z",
     "iopub.status.idle": "2024-05-14T22:31:22.417413Z",
     "shell.execute_reply": "2024-05-14T22:31:22.416650Z",
     "shell.execute_reply.started": "2024-05-14T22:31:22.401124Z"
    },
    "id": "ZZve_A-AVJwe",
    "tags": []
   },
   "outputs": [],
   "source": [
    "def random_forest(X, y):\n",
    "\n",
    "    #для подбора гиперпараметров воспользуемся поиском по сетке\n",
    "    params = {\n",
    "    'criterion': ['gini', 'entropy'],\n",
    "    'n_estimators': [100, 200, 400]\n",
    "    }\n",
    "    grid = GridSearchCV(RandomForestClassifier(random_state=42), params, cv=5)\n",
    "    grid.fit(X, y)\n",
    "\n",
    "    best_criterion = grid.best_params_['criterion']\n",
    "    count_estimators = grid.best_params_['n_estimators']\n",
    "\n",
    "    X_train, X_test, y_train, y_test =\\\n",
    "     train_test_split(X, y, test_size=0.2, random_state=42)\n",
    "\n",
    "    model = RandomForestClassifier(criterion=best_criterion, n_estimators=count_estimators)\n",
    "    model.fit(X_train, y_train)\n",
    "\n",
    "    y_pred = model.predict(X_test)\n",
    "\n",
    "    accuracy = accuracy_score(y_test, y_pred)\n",
    "    precision = precision_score(y_test, y_pred)\n",
    "    recall = recall_score(y_test, y_pred)\n",
    "    f_score = f1_score(y_test, y_pred)\n",
    "\n",
    "    return accuracy, precision, recall, f_score"
   ]
  },
  {
   "cell_type": "markdown",
   "metadata": {
    "id": "l8c8M4FhW0PB"
   },
   "source": [
    "**Градиентный бустинг**"
   ]
  },
  {
   "cell_type": "code",
   "execution_count": 5,
   "metadata": {
    "execution": {
     "iopub.execute_input": "2024-05-14T22:31:26.083776Z",
     "iopub.status.busy": "2024-05-14T22:31:26.082899Z",
     "iopub.status.idle": "2024-05-14T22:31:26.101377Z",
     "shell.execute_reply": "2024-05-14T22:31:26.100580Z",
     "shell.execute_reply.started": "2024-05-14T22:31:26.083732Z"
    },
    "id": "LCiXD1nFXk4Z",
    "tags": []
   },
   "outputs": [],
   "source": [
    "def gradient_boosting(X, y):\n",
    "\n",
    "    #для подбора гиперпараметров воспользуемся поиском по сетке\n",
    "    params = {\n",
    "    'n_estimators': [100, 200, 400, 500]\n",
    "    }\n",
    "    grid = GridSearchCV(GradientBoostingClassifier(random_state=42), params, cv=5)\n",
    "    grid.fit(X, y)\n",
    "\n",
    "    count_estimators = grid.best_params_['n_estimators']\n",
    "\n",
    "    X_train, X_test, y_train, y_test =\\\n",
    "     train_test_split(X, y, test_size=0.2, random_state=42)\n",
    "\n",
    "    model =  GradientBoostingClassifier(n_estimators=count_estimators)\n",
    "    model.fit(X_train, y_train)\n",
    "\n",
    "    y_pred = model.predict(X_test)\n",
    "\n",
    "    accuracy = accuracy_score(y_test, y_pred)\n",
    "    precision = precision_score(y_test, y_pred)\n",
    "    recall = recall_score(y_test, y_pred)\n",
    "    f_score = f1_score(y_test, y_pred)\n",
    "\n",
    "    return accuracy, precision, recall, f_score"
   ]
  },
  {
   "cell_type": "markdown",
   "metadata": {
    "id": "xKb_DBnzgBNu"
   },
   "source": [
    "**Итоговые результаты**"
   ]
  },
  {
   "cell_type": "code",
   "execution_count": 6,
   "metadata": {
    "execution": {
     "iopub.execute_input": "2024-05-14T22:31:29.201503Z",
     "iopub.status.busy": "2024-05-14T22:31:29.200740Z",
     "iopub.status.idle": "2024-05-14T22:31:29.238132Z",
     "shell.execute_reply": "2024-05-14T22:31:29.237287Z",
     "shell.execute_reply.started": "2024-05-14T22:31:29.201441Z"
    },
    "id": "sfxgaju-XMTD",
    "tags": []
   },
   "outputs": [],
   "source": [
    "def get_results(data):\n",
    "\n",
    "    X = data.drop(columns='target')\n",
    "    y = data['target']\n",
    "\n",
    "    accuracy_first, precision_first, recall_first, f_score_first = logistic_regression(X, y)\n",
    "\n",
    "    accuracy_second, precision_second, recall_second, f_score_second = knn(X, y)\n",
    "\n",
    "    accuracy_third, precision_third, recall_third, f_score_third = random_forest(X, y)\n",
    "\n",
    "    accuracy_fourth, precision_fourth, recall_fourth, f_score_fourth = gradient_boosting(X, y)\n",
    "\n",
    "    result_data = pd.DataFrame({'Accuracy': [accuracy_first, accuracy_second,\\\n",
    "                                accuracy_third, accuracy_fourth],\n",
    "                   'Precision': [precision_first,  precision_second,\\\n",
    "                                  precision_third,  precision_fourth],\n",
    "                   'Recall': [recall_first, recall_second,\\\n",
    "                              recall_third, recall_fourth],\n",
    "                   'F-score': [f_score_first, f_score_second, f_score_third,\\\n",
    "                               f_score_fourth]\n",
    "                    })\n",
    "\n",
    "    result_data['Accuracy'] = round(result_data['Accuracy'], 2)\n",
    "    result_data['Precision'] = round(result_data['Precision'], 2)\n",
    "    result_data['Recall'] = round(result_data['Recall'], 2)\n",
    "    result_data['F-score'] = round(result_data['F-score'], 2)\n",
    "\n",
    "    result_data.rename(index={0: 'Логистическая регрессия',\n",
    "                       1: 'Метод к-ближайших соседей',\n",
    "                       2: 'Случайный лес',\n",
    "                       3: 'Градиентный бустинг'}, inplace= True)\n",
    "\n",
    "    return result_data"
   ]
  },
  {
   "cell_type": "markdown",
   "metadata": {
    "id": "DgBdOGeav-X1"
   },
   "source": [
    "# Камчатка"
   ]
  },
  {
   "cell_type": "markdown",
   "metadata": {
    "id": "K-gOuCtmwHef"
   },
   "source": [
    "Первый способ предобработки данных"
   ]
  },
  {
   "cell_type": "code",
   "execution_count": 7,
   "metadata": {
    "colab": {
     "base_uri": "https://localhost:8080/",
     "height": 175
    },
    "execution": {
     "iopub.execute_input": "2024-05-14T22:31:33.647200Z",
     "iopub.status.busy": "2024-05-14T22:31:33.646263Z",
     "iopub.status.idle": "2024-05-14T22:31:33.697339Z",
     "shell.execute_reply": "2024-05-14T22:31:33.696330Z",
     "shell.execute_reply.started": "2024-05-14T22:31:33.647153Z"
    },
    "id": "rl4RnhWXoeZd",
    "outputId": "dd9674a8-e947-4140-e5db-830e6096e324",
    "tags": []
   },
   "outputs": [
    {
     "data": {
      "text/html": [
       "<div>\n",
       "<style scoped>\n",
       "    .dataframe tbody tr th:only-of-type {\n",
       "        vertical-align: middle;\n",
       "    }\n",
       "\n",
       "    .dataframe tbody tr th {\n",
       "        vertical-align: top;\n",
       "    }\n",
       "\n",
       "    .dataframe thead th {\n",
       "        text-align: right;\n",
       "    }\n",
       "</style>\n",
       "<table border=\"1\" class=\"dataframe\">\n",
       "  <thead>\n",
       "    <tr style=\"text-align: right;\">\n",
       "      <th></th>\n",
       "      <th>Accuracy</th>\n",
       "      <th>Precision</th>\n",
       "      <th>Recall</th>\n",
       "      <th>F-score</th>\n",
       "    </tr>\n",
       "  </thead>\n",
       "  <tbody>\n",
       "    <tr>\n",
       "      <th>Логистическая регрессия</th>\n",
       "      <td>0.55</td>\n",
       "      <td>0.71</td>\n",
       "      <td>0.48</td>\n",
       "      <td>0.57</td>\n",
       "    </tr>\n",
       "    <tr>\n",
       "      <th>Метод к-ближайших соседей</th>\n",
       "      <td>0.57</td>\n",
       "      <td>0.68</td>\n",
       "      <td>0.60</td>\n",
       "      <td>0.64</td>\n",
       "    </tr>\n",
       "    <tr>\n",
       "      <th>Случайный лес</th>\n",
       "      <td>0.60</td>\n",
       "      <td>0.74</td>\n",
       "      <td>0.56</td>\n",
       "      <td>0.64</td>\n",
       "    </tr>\n",
       "    <tr>\n",
       "      <th>Градиентный бустинг</th>\n",
       "      <td>0.55</td>\n",
       "      <td>0.67</td>\n",
       "      <td>0.56</td>\n",
       "      <td>0.61</td>\n",
       "    </tr>\n",
       "  </tbody>\n",
       "</table>\n",
       "</div>"
      ],
      "text/plain": [
       "                           Accuracy  Precision  Recall  F-score\n",
       "Логистическая регрессия        0.55       0.71    0.48     0.57\n",
       "Метод к-ближайших соседей      0.57       0.68    0.60     0.64\n",
       "Случайный лес                  0.60       0.74    0.56     0.64\n",
       "Градиентный бустинг            0.55       0.67    0.56     0.61"
      ]
     },
     "execution_count": 7,
     "metadata": {},
     "output_type": "execute_result"
    }
   ],
   "source": [
    "data = pd.read_csv('./Kamchatka_first.csv')\n",
    "result_data = get_results(data)\n",
    "result_data.head()"
   ]
  },
  {
   "cell_type": "markdown",
   "metadata": {
    "id": "gvWhnSNXv8qJ"
   },
   "source": [
    "Второй способ предобработки данных"
   ]
  },
  {
   "cell_type": "code",
   "execution_count": 8,
   "metadata": {
    "colab": {
     "base_uri": "https://localhost:8080/",
     "height": 175
    },
    "execution": {
     "iopub.execute_input": "2024-05-14T22:31:39.501250Z",
     "iopub.status.busy": "2024-05-14T22:31:39.500427Z",
     "iopub.status.idle": "2024-05-14T22:31:39.540416Z",
     "shell.execute_reply": "2024-05-14T22:31:39.539705Z",
     "shell.execute_reply.started": "2024-05-14T22:31:39.501208Z"
    },
    "id": "VlfCsrRaopwB",
    "outputId": "4f624a16-b000-43b0-b645-f7da5e842b44",
    "tags": []
   },
   "outputs": [
    {
     "data": {
      "text/html": [
       "<div>\n",
       "<style scoped>\n",
       "    .dataframe tbody tr th:only-of-type {\n",
       "        vertical-align: middle;\n",
       "    }\n",
       "\n",
       "    .dataframe tbody tr th {\n",
       "        vertical-align: top;\n",
       "    }\n",
       "\n",
       "    .dataframe thead th {\n",
       "        text-align: right;\n",
       "    }\n",
       "</style>\n",
       "<table border=\"1\" class=\"dataframe\">\n",
       "  <thead>\n",
       "    <tr style=\"text-align: right;\">\n",
       "      <th></th>\n",
       "      <th>Accuracy</th>\n",
       "      <th>Precision</th>\n",
       "      <th>Recall</th>\n",
       "      <th>F-score</th>\n",
       "    </tr>\n",
       "  </thead>\n",
       "  <tbody>\n",
       "    <tr>\n",
       "      <th>Логистическая регрессия</th>\n",
       "      <td>0.56</td>\n",
       "      <td>0.55</td>\n",
       "      <td>0.67</td>\n",
       "      <td>0.60</td>\n",
       "    </tr>\n",
       "    <tr>\n",
       "      <th>Метод к-ближайших соседей</th>\n",
       "      <td>0.56</td>\n",
       "      <td>0.54</td>\n",
       "      <td>0.72</td>\n",
       "      <td>0.62</td>\n",
       "    </tr>\n",
       "    <tr>\n",
       "      <th>Случайный лес</th>\n",
       "      <td>0.50</td>\n",
       "      <td>0.50</td>\n",
       "      <td>0.61</td>\n",
       "      <td>0.55</td>\n",
       "    </tr>\n",
       "    <tr>\n",
       "      <th>Градиентный бустинг</th>\n",
       "      <td>0.56</td>\n",
       "      <td>0.54</td>\n",
       "      <td>0.78</td>\n",
       "      <td>0.64</td>\n",
       "    </tr>\n",
       "  </tbody>\n",
       "</table>\n",
       "</div>"
      ],
      "text/plain": [
       "                           Accuracy  Precision  Recall  F-score\n",
       "Логистическая регрессия        0.56       0.55    0.67     0.60\n",
       "Метод к-ближайших соседей      0.56       0.54    0.72     0.62\n",
       "Случайный лес                  0.50       0.50    0.61     0.55\n",
       "Градиентный бустинг            0.56       0.54    0.78     0.64"
      ]
     },
     "execution_count": 8,
     "metadata": {},
     "output_type": "execute_result"
    }
   ],
   "source": [
    "data = pd.read_csv('./Kamchatka_second.csv')\n",
    "result_data = get_results(data)\n",
    "result_data.head()"
   ]
  },
  {
   "cell_type": "markdown",
   "metadata": {
    "id": "sWofb7uUwp_P"
   },
   "source": [
    "# Курильские острова"
   ]
  },
  {
   "cell_type": "markdown",
   "metadata": {
    "id": "kFpyWDk3wy9M"
   },
   "source": [
    "Первый способ предобработки данных"
   ]
  },
  {
   "cell_type": "code",
   "execution_count": 9,
   "metadata": {
    "colab": {
     "base_uri": "https://localhost:8080/",
     "height": 175
    },
    "execution": {
     "iopub.execute_input": "2024-05-14T22:31:43.589157Z",
     "iopub.status.busy": "2024-05-14T22:31:43.588278Z",
     "iopub.status.idle": "2024-05-14T22:31:43.623850Z",
     "shell.execute_reply": "2024-05-14T22:31:43.623199Z",
     "shell.execute_reply.started": "2024-05-14T22:31:43.589113Z"
    },
    "id": "7C_xKTWAwzFK",
    "outputId": "3937a55b-5247-4908-8440-b5cd85acfba0",
    "tags": []
   },
   "outputs": [
    {
     "data": {
      "text/html": [
       "<div>\n",
       "<style scoped>\n",
       "    .dataframe tbody tr th:only-of-type {\n",
       "        vertical-align: middle;\n",
       "    }\n",
       "\n",
       "    .dataframe tbody tr th {\n",
       "        vertical-align: top;\n",
       "    }\n",
       "\n",
       "    .dataframe thead th {\n",
       "        text-align: right;\n",
       "    }\n",
       "</style>\n",
       "<table border=\"1\" class=\"dataframe\">\n",
       "  <thead>\n",
       "    <tr style=\"text-align: right;\">\n",
       "      <th></th>\n",
       "      <th>Accuracy</th>\n",
       "      <th>Precision</th>\n",
       "      <th>Recall</th>\n",
       "      <th>F-score</th>\n",
       "    </tr>\n",
       "  </thead>\n",
       "  <tbody>\n",
       "    <tr>\n",
       "      <th>Логистическая регрессия</th>\n",
       "      <td>0.68</td>\n",
       "      <td>0.80</td>\n",
       "      <td>0.59</td>\n",
       "      <td>0.68</td>\n",
       "    </tr>\n",
       "    <tr>\n",
       "      <th>Метод к-ближайших соседей</th>\n",
       "      <td>0.47</td>\n",
       "      <td>0.53</td>\n",
       "      <td>0.53</td>\n",
       "      <td>0.53</td>\n",
       "    </tr>\n",
       "    <tr>\n",
       "      <th>Случайный лес</th>\n",
       "      <td>0.58</td>\n",
       "      <td>0.65</td>\n",
       "      <td>0.59</td>\n",
       "      <td>0.62</td>\n",
       "    </tr>\n",
       "    <tr>\n",
       "      <th>Градиентный бустинг</th>\n",
       "      <td>0.53</td>\n",
       "      <td>0.61</td>\n",
       "      <td>0.50</td>\n",
       "      <td>0.55</td>\n",
       "    </tr>\n",
       "  </tbody>\n",
       "</table>\n",
       "</div>"
      ],
      "text/plain": [
       "                           Accuracy  Precision  Recall  F-score\n",
       "Логистическая регрессия        0.68       0.80    0.59     0.68\n",
       "Метод к-ближайших соседей      0.47       0.53    0.53     0.53\n",
       "Случайный лес                  0.58       0.65    0.59     0.62\n",
       "Градиентный бустинг            0.53       0.61    0.50     0.55"
      ]
     },
     "execution_count": 9,
     "metadata": {},
     "output_type": "execute_result"
    }
   ],
   "source": [
    "data = pd.read_csv('./Kuril_first.csv')\n",
    "result_data = get_results(data)\n",
    "result_data.head()"
   ]
  },
  {
   "cell_type": "markdown",
   "metadata": {
    "id": "QphDp_BdwzNQ"
   },
   "source": [
    "Второй способ предобработки данных"
   ]
  },
  {
   "cell_type": "code",
   "execution_count": 10,
   "metadata": {
    "colab": {
     "base_uri": "https://localhost:8080/",
     "height": 175
    },
    "execution": {
     "iopub.execute_input": "2024-05-14T22:31:46.963281Z",
     "iopub.status.busy": "2024-05-14T22:31:46.962546Z",
     "iopub.status.idle": "2024-05-14T22:31:46.996036Z",
     "shell.execute_reply": "2024-05-14T22:31:46.995198Z",
     "shell.execute_reply.started": "2024-05-14T22:31:46.963243Z"
    },
    "id": "abM0JccawzU4",
    "outputId": "bc23b749-a17a-4dd9-8be8-406dc4bffafc",
    "tags": []
   },
   "outputs": [
    {
     "data": {
      "text/html": [
       "<div>\n",
       "<style scoped>\n",
       "    .dataframe tbody tr th:only-of-type {\n",
       "        vertical-align: middle;\n",
       "    }\n",
       "\n",
       "    .dataframe tbody tr th {\n",
       "        vertical-align: top;\n",
       "    }\n",
       "\n",
       "    .dataframe thead th {\n",
       "        text-align: right;\n",
       "    }\n",
       "</style>\n",
       "<table border=\"1\" class=\"dataframe\">\n",
       "  <thead>\n",
       "    <tr style=\"text-align: right;\">\n",
       "      <th></th>\n",
       "      <th>Accuracy</th>\n",
       "      <th>Precision</th>\n",
       "      <th>Recall</th>\n",
       "      <th>F-score</th>\n",
       "    </tr>\n",
       "  </thead>\n",
       "  <tbody>\n",
       "    <tr>\n",
       "      <th>Логистическая регрессия</th>\n",
       "      <td>0.57</td>\n",
       "      <td>0.55</td>\n",
       "      <td>0.57</td>\n",
       "      <td>0.56</td>\n",
       "    </tr>\n",
       "    <tr>\n",
       "      <th>Метод к-ближайших соседей</th>\n",
       "      <td>0.47</td>\n",
       "      <td>0.46</td>\n",
       "      <td>0.57</td>\n",
       "      <td>0.51</td>\n",
       "    </tr>\n",
       "    <tr>\n",
       "      <th>Случайный лес</th>\n",
       "      <td>0.64</td>\n",
       "      <td>0.61</td>\n",
       "      <td>0.71</td>\n",
       "      <td>0.66</td>\n",
       "    </tr>\n",
       "    <tr>\n",
       "      <th>Градиентный бустинг</th>\n",
       "      <td>0.62</td>\n",
       "      <td>0.61</td>\n",
       "      <td>0.61</td>\n",
       "      <td>0.61</td>\n",
       "    </tr>\n",
       "  </tbody>\n",
       "</table>\n",
       "</div>"
      ],
      "text/plain": [
       "                           Accuracy  Precision  Recall  F-score\n",
       "Логистическая регрессия        0.57       0.55    0.57     0.56\n",
       "Метод к-ближайших соседей      0.47       0.46    0.57     0.51\n",
       "Случайный лес                  0.64       0.61    0.71     0.66\n",
       "Градиентный бустинг            0.62       0.61    0.61     0.61"
      ]
     },
     "execution_count": 10,
     "metadata": {},
     "output_type": "execute_result"
    }
   ],
   "source": [
    "data = pd.read_csv('./Kuril_second.csv')\n",
    "result_data = get_results(data)\n",
    "result_data.head()"
   ]
  },
  {
   "cell_type": "markdown",
   "metadata": {
    "id": "LVyG-DN4xFQ5"
   },
   "source": [
    "# Турция"
   ]
  },
  {
   "cell_type": "markdown",
   "metadata": {
    "id": "XKF3N2tKxFZK"
   },
   "source": [
    "Первый способ предобработки данных"
   ]
  },
  {
   "cell_type": "code",
   "execution_count": 11,
   "metadata": {
    "colab": {
     "base_uri": "https://localhost:8080/",
     "height": 175
    },
    "execution": {
     "iopub.execute_input": "2024-05-14T22:31:50.925420Z",
     "iopub.status.busy": "2024-05-14T22:31:50.924536Z",
     "iopub.status.idle": "2024-05-14T22:31:50.965313Z",
     "shell.execute_reply": "2024-05-14T22:31:50.964594Z",
     "shell.execute_reply.started": "2024-05-14T22:31:50.925371Z"
    },
    "id": "UmUxaQtOxFlO",
    "outputId": "fe201d6d-5fc4-45db-e3e9-106670ab7c8b",
    "tags": []
   },
   "outputs": [
    {
     "data": {
      "text/html": [
       "<div>\n",
       "<style scoped>\n",
       "    .dataframe tbody tr th:only-of-type {\n",
       "        vertical-align: middle;\n",
       "    }\n",
       "\n",
       "    .dataframe tbody tr th {\n",
       "        vertical-align: top;\n",
       "    }\n",
       "\n",
       "    .dataframe thead th {\n",
       "        text-align: right;\n",
       "    }\n",
       "</style>\n",
       "<table border=\"1\" class=\"dataframe\">\n",
       "  <thead>\n",
       "    <tr style=\"text-align: right;\">\n",
       "      <th></th>\n",
       "      <th>Accuracy</th>\n",
       "      <th>Precision</th>\n",
       "      <th>Recall</th>\n",
       "      <th>F-score</th>\n",
       "    </tr>\n",
       "  </thead>\n",
       "  <tbody>\n",
       "    <tr>\n",
       "      <th>Логистическая регрессия</th>\n",
       "      <td>0.72</td>\n",
       "      <td>0.68</td>\n",
       "      <td>0.77</td>\n",
       "      <td>0.72</td>\n",
       "    </tr>\n",
       "    <tr>\n",
       "      <th>Метод к-ближайших соседей</th>\n",
       "      <td>0.57</td>\n",
       "      <td>0.54</td>\n",
       "      <td>0.59</td>\n",
       "      <td>0.57</td>\n",
       "    </tr>\n",
       "    <tr>\n",
       "      <th>Случайный лес</th>\n",
       "      <td>0.65</td>\n",
       "      <td>0.61</td>\n",
       "      <td>0.77</td>\n",
       "      <td>0.68</td>\n",
       "    </tr>\n",
       "    <tr>\n",
       "      <th>Градиентный бустинг</th>\n",
       "      <td>0.65</td>\n",
       "      <td>0.62</td>\n",
       "      <td>0.68</td>\n",
       "      <td>0.65</td>\n",
       "    </tr>\n",
       "  </tbody>\n",
       "</table>\n",
       "</div>"
      ],
      "text/plain": [
       "                           Accuracy  Precision  Recall  F-score\n",
       "Логистическая регрессия        0.72       0.68    0.77     0.72\n",
       "Метод к-ближайших соседей      0.57       0.54    0.59     0.57\n",
       "Случайный лес                  0.65       0.61    0.77     0.68\n",
       "Градиентный бустинг            0.65       0.62    0.68     0.65"
      ]
     },
     "execution_count": 11,
     "metadata": {},
     "output_type": "execute_result"
    }
   ],
   "source": [
    "data = pd.read_csv('./Turkey_first.csv')\n",
    "result_data = get_results(data)\n",
    "result_data.head()"
   ]
  },
  {
   "cell_type": "markdown",
   "metadata": {
    "id": "itrMwEE-xFtS"
   },
   "source": [
    "Второй способ предобработки данных"
   ]
  },
  {
   "cell_type": "code",
   "execution_count": 12,
   "metadata": {
    "colab": {
     "base_uri": "https://localhost:8080/",
     "height": 175
    },
    "execution": {
     "iopub.execute_input": "2024-05-14T22:31:55.434619Z",
     "iopub.status.busy": "2024-05-14T22:31:55.433755Z",
     "iopub.status.idle": "2024-05-14T22:31:55.465856Z",
     "shell.execute_reply": "2024-05-14T22:31:55.465015Z",
     "shell.execute_reply.started": "2024-05-14T22:31:55.434579Z"
    },
    "id": "OgZWMe23xF0r",
    "outputId": "6dce2443-6922-49c1-949d-2cc59cd355e5",
    "tags": []
   },
   "outputs": [
    {
     "data": {
      "text/html": [
       "<div>\n",
       "<style scoped>\n",
       "    .dataframe tbody tr th:only-of-type {\n",
       "        vertical-align: middle;\n",
       "    }\n",
       "\n",
       "    .dataframe tbody tr th {\n",
       "        vertical-align: top;\n",
       "    }\n",
       "\n",
       "    .dataframe thead th {\n",
       "        text-align: right;\n",
       "    }\n",
       "</style>\n",
       "<table border=\"1\" class=\"dataframe\">\n",
       "  <thead>\n",
       "    <tr style=\"text-align: right;\">\n",
       "      <th></th>\n",
       "      <th>Accuracy</th>\n",
       "      <th>Precision</th>\n",
       "      <th>Recall</th>\n",
       "      <th>F-score</th>\n",
       "    </tr>\n",
       "  </thead>\n",
       "  <tbody>\n",
       "    <tr>\n",
       "      <th>Логистическая регрессия</th>\n",
       "      <td>0.52</td>\n",
       "      <td>0.57</td>\n",
       "      <td>0.44</td>\n",
       "      <td>0.50</td>\n",
       "    </tr>\n",
       "    <tr>\n",
       "      <th>Метод к-ближайших соседей</th>\n",
       "      <td>0.61</td>\n",
       "      <td>0.65</td>\n",
       "      <td>0.61</td>\n",
       "      <td>0.63</td>\n",
       "    </tr>\n",
       "    <tr>\n",
       "      <th>Случайный лес</th>\n",
       "      <td>0.55</td>\n",
       "      <td>0.60</td>\n",
       "      <td>0.50</td>\n",
       "      <td>0.55</td>\n",
       "    </tr>\n",
       "    <tr>\n",
       "      <th>Градиентный бустинг</th>\n",
       "      <td>0.45</td>\n",
       "      <td>0.50</td>\n",
       "      <td>0.39</td>\n",
       "      <td>0.44</td>\n",
       "    </tr>\n",
       "  </tbody>\n",
       "</table>\n",
       "</div>"
      ],
      "text/plain": [
       "                           Accuracy  Precision  Recall  F-score\n",
       "Логистическая регрессия        0.52       0.57    0.44     0.50\n",
       "Метод к-ближайших соседей      0.61       0.65    0.61     0.63\n",
       "Случайный лес                  0.55       0.60    0.50     0.55\n",
       "Градиентный бустинг            0.45       0.50    0.39     0.44"
      ]
     },
     "execution_count": 12,
     "metadata": {},
     "output_type": "execute_result"
    }
   ],
   "source": [
    "data = pd.read_csv('./Turkey_second.csv')\n",
    "result_data = get_results(data)\n",
    "result_data.head()"
   ]
  },
  {
   "cell_type": "markdown",
   "metadata": {
    "id": "D-Ik1WXRxane"
   },
   "source": [
    "# Чили"
   ]
  },
  {
   "cell_type": "markdown",
   "metadata": {
    "id": "wOFyEjaTxbWj"
   },
   "source": [
    "Первый способ предобработки данных"
   ]
  },
  {
   "cell_type": "code",
   "execution_count": 13,
   "metadata": {
    "colab": {
     "base_uri": "https://localhost:8080/",
     "height": 175
    },
    "execution": {
     "iopub.execute_input": "2024-05-14T22:31:59.153814Z",
     "iopub.status.busy": "2024-05-14T22:31:59.152946Z",
     "iopub.status.idle": "2024-05-14T22:31:59.187898Z",
     "shell.execute_reply": "2024-05-14T22:31:59.187079Z",
     "shell.execute_reply.started": "2024-05-14T22:31:59.153770Z"
    },
    "id": "maVbw9pvxawA",
    "outputId": "163ccc93-cf31-40dd-8f5a-ab38c3659796",
    "tags": []
   },
   "outputs": [
    {
     "data": {
      "text/html": [
       "<div>\n",
       "<style scoped>\n",
       "    .dataframe tbody tr th:only-of-type {\n",
       "        vertical-align: middle;\n",
       "    }\n",
       "\n",
       "    .dataframe tbody tr th {\n",
       "        vertical-align: top;\n",
       "    }\n",
       "\n",
       "    .dataframe thead th {\n",
       "        text-align: right;\n",
       "    }\n",
       "</style>\n",
       "<table border=\"1\" class=\"dataframe\">\n",
       "  <thead>\n",
       "    <tr style=\"text-align: right;\">\n",
       "      <th></th>\n",
       "      <th>Accuracy</th>\n",
       "      <th>Precision</th>\n",
       "      <th>Recall</th>\n",
       "      <th>F-score</th>\n",
       "    </tr>\n",
       "  </thead>\n",
       "  <tbody>\n",
       "    <tr>\n",
       "      <th>Логистическая регрессия</th>\n",
       "      <td>0.57</td>\n",
       "      <td>0.55</td>\n",
       "      <td>0.67</td>\n",
       "      <td>0.61</td>\n",
       "    </tr>\n",
       "    <tr>\n",
       "      <th>Метод к-ближайших соседей</th>\n",
       "      <td>0.58</td>\n",
       "      <td>0.55</td>\n",
       "      <td>0.81</td>\n",
       "      <td>0.65</td>\n",
       "    </tr>\n",
       "    <tr>\n",
       "      <th>Случайный лес</th>\n",
       "      <td>0.68</td>\n",
       "      <td>0.67</td>\n",
       "      <td>0.69</td>\n",
       "      <td>0.68</td>\n",
       "    </tr>\n",
       "    <tr>\n",
       "      <th>Градиентный бустинг</th>\n",
       "      <td>0.68</td>\n",
       "      <td>0.66</td>\n",
       "      <td>0.69</td>\n",
       "      <td>0.68</td>\n",
       "    </tr>\n",
       "  </tbody>\n",
       "</table>\n",
       "</div>"
      ],
      "text/plain": [
       "                           Accuracy  Precision  Recall  F-score\n",
       "Логистическая регрессия        0.57       0.55    0.67     0.61\n",
       "Метод к-ближайших соседей      0.58       0.55    0.81     0.65\n",
       "Случайный лес                  0.68       0.67    0.69     0.68\n",
       "Градиентный бустинг            0.68       0.66    0.69     0.68"
      ]
     },
     "execution_count": 13,
     "metadata": {},
     "output_type": "execute_result"
    }
   ],
   "source": [
    "data = pd.read_csv('./Chile_first.csv')\n",
    "result_data = get_results(data)\n",
    "result_data.head()"
   ]
  },
  {
   "cell_type": "markdown",
   "metadata": {
    "id": "YqzFCysGxb0N"
   },
   "source": [
    "Второй способ предобработки данных"
   ]
  },
  {
   "cell_type": "code",
   "execution_count": 14,
   "metadata": {
    "colab": {
     "base_uri": "https://localhost:8080/",
     "height": 175
    },
    "execution": {
     "iopub.execute_input": "2024-05-14T22:32:03.439570Z",
     "iopub.status.busy": "2024-05-14T22:32:03.438701Z",
     "iopub.status.idle": "2024-05-14T22:32:03.489411Z",
     "shell.execute_reply": "2024-05-14T22:32:03.488567Z",
     "shell.execute_reply.started": "2024-05-14T22:32:03.439527Z"
    },
    "id": "8pHgOJUQxcB6",
    "outputId": "7a34b1d3-8bb7-408e-a87a-99ca908aa4d4",
    "tags": []
   },
   "outputs": [
    {
     "data": {
      "text/html": [
       "<div>\n",
       "<style scoped>\n",
       "    .dataframe tbody tr th:only-of-type {\n",
       "        vertical-align: middle;\n",
       "    }\n",
       "\n",
       "    .dataframe tbody tr th {\n",
       "        vertical-align: top;\n",
       "    }\n",
       "\n",
       "    .dataframe thead th {\n",
       "        text-align: right;\n",
       "    }\n",
       "</style>\n",
       "<table border=\"1\" class=\"dataframe\">\n",
       "  <thead>\n",
       "    <tr style=\"text-align: right;\">\n",
       "      <th></th>\n",
       "      <th>Accuracy</th>\n",
       "      <th>Precision</th>\n",
       "      <th>Recall</th>\n",
       "      <th>F-score</th>\n",
       "    </tr>\n",
       "  </thead>\n",
       "  <tbody>\n",
       "    <tr>\n",
       "      <th>Логистическая регрессия</th>\n",
       "      <td>0.53</td>\n",
       "      <td>0.56</td>\n",
       "      <td>0.56</td>\n",
       "      <td>0.56</td>\n",
       "    </tr>\n",
       "    <tr>\n",
       "      <th>Метод к-ближайших соседей</th>\n",
       "      <td>0.49</td>\n",
       "      <td>0.53</td>\n",
       "      <td>0.42</td>\n",
       "      <td>0.47</td>\n",
       "    </tr>\n",
       "    <tr>\n",
       "      <th>Случайный лес</th>\n",
       "      <td>0.57</td>\n",
       "      <td>0.62</td>\n",
       "      <td>0.52</td>\n",
       "      <td>0.56</td>\n",
       "    </tr>\n",
       "    <tr>\n",
       "      <th>Градиентный бустинг</th>\n",
       "      <td>0.59</td>\n",
       "      <td>0.63</td>\n",
       "      <td>0.57</td>\n",
       "      <td>0.60</td>\n",
       "    </tr>\n",
       "  </tbody>\n",
       "</table>\n",
       "</div>"
      ],
      "text/plain": [
       "                           Accuracy  Precision  Recall  F-score\n",
       "Логистическая регрессия        0.53       0.56    0.56     0.56\n",
       "Метод к-ближайших соседей      0.49       0.53    0.42     0.47\n",
       "Случайный лес                  0.57       0.62    0.52     0.56\n",
       "Градиентный бустинг            0.59       0.63    0.57     0.60"
      ]
     },
     "execution_count": 14,
     "metadata": {},
     "output_type": "execute_result"
    }
   ],
   "source": [
    "data = pd.read_csv('./Chile_second.csv')\n",
    "result_data = get_results(data)\n",
    "result_data.head()"
   ]
  },
  {
   "cell_type": "markdown",
   "metadata": {
    "id": "5MXeXel0xw_W"
   },
   "source": [
    "# Япония"
   ]
  },
  {
   "cell_type": "markdown",
   "metadata": {
    "id": "J_gQIgsNxxQ-"
   },
   "source": [
    "Первый способ предобработки данных"
   ]
  },
  {
   "cell_type": "code",
   "execution_count": 15,
   "metadata": {
    "colab": {
     "base_uri": "https://localhost:8080/",
     "height": 175
    },
    "execution": {
     "iopub.execute_input": "2024-05-14T22:32:09.893246Z",
     "iopub.status.busy": "2024-05-14T22:32:09.892471Z",
     "iopub.status.idle": "2024-05-14T22:32:09.932080Z",
     "shell.execute_reply": "2024-05-14T22:32:09.931361Z",
     "shell.execute_reply.started": "2024-05-14T22:32:09.893198Z"
    },
    "id": "Ihf38fZfxxeE",
    "outputId": "3c81905e-0320-433c-dad3-95c913d8ca4a",
    "tags": []
   },
   "outputs": [
    {
     "data": {
      "text/html": [
       "<div>\n",
       "<style scoped>\n",
       "    .dataframe tbody tr th:only-of-type {\n",
       "        vertical-align: middle;\n",
       "    }\n",
       "\n",
       "    .dataframe tbody tr th {\n",
       "        vertical-align: top;\n",
       "    }\n",
       "\n",
       "    .dataframe thead th {\n",
       "        text-align: right;\n",
       "    }\n",
       "</style>\n",
       "<table border=\"1\" class=\"dataframe\">\n",
       "  <thead>\n",
       "    <tr style=\"text-align: right;\">\n",
       "      <th></th>\n",
       "      <th>Accuracy</th>\n",
       "      <th>Precision</th>\n",
       "      <th>Recall</th>\n",
       "      <th>F-score</th>\n",
       "    </tr>\n",
       "  </thead>\n",
       "  <tbody>\n",
       "    <tr>\n",
       "      <th>Логистическая регрессия</th>\n",
       "      <td>0.50</td>\n",
       "      <td>0.52</td>\n",
       "      <td>0.47</td>\n",
       "      <td>0.50</td>\n",
       "    </tr>\n",
       "    <tr>\n",
       "      <th>Метод к-ближайших соседей</th>\n",
       "      <td>0.51</td>\n",
       "      <td>0.53</td>\n",
       "      <td>0.55</td>\n",
       "      <td>0.54</td>\n",
       "    </tr>\n",
       "    <tr>\n",
       "      <th>Случайный лес</th>\n",
       "      <td>0.59</td>\n",
       "      <td>0.63</td>\n",
       "      <td>0.51</td>\n",
       "      <td>0.56</td>\n",
       "    </tr>\n",
       "    <tr>\n",
       "      <th>Градиентный бустинг</th>\n",
       "      <td>0.62</td>\n",
       "      <td>0.66</td>\n",
       "      <td>0.59</td>\n",
       "      <td>0.62</td>\n",
       "    </tr>\n",
       "  </tbody>\n",
       "</table>\n",
       "</div>"
      ],
      "text/plain": [
       "                           Accuracy  Precision  Recall  F-score\n",
       "Логистическая регрессия        0.50       0.52    0.47     0.50\n",
       "Метод к-ближайших соседей      0.51       0.53    0.55     0.54\n",
       "Случайный лес                  0.59       0.63    0.51     0.56\n",
       "Градиентный бустинг            0.62       0.66    0.59     0.62"
      ]
     },
     "execution_count": 15,
     "metadata": {},
     "output_type": "execute_result"
    }
   ],
   "source": [
    "data = pd.read_csv('./Japan_first.csv')\n",
    "result_data = get_results(data)\n",
    "result_data.head()"
   ]
  },
  {
   "cell_type": "markdown",
   "metadata": {
    "id": "7xSUb-5Wxxkz"
   },
   "source": [
    "Второй способ предобработки данных"
   ]
  },
  {
   "cell_type": "code",
   "execution_count": 16,
   "metadata": {
    "colab": {
     "base_uri": "https://localhost:8080/",
     "height": 175
    },
    "execution": {
     "iopub.execute_input": "2024-05-14T22:32:12.952781Z",
     "iopub.status.busy": "2024-05-14T22:32:12.951819Z",
     "iopub.status.idle": "2024-05-14T22:32:12.976208Z",
     "shell.execute_reply": "2024-05-14T22:32:12.975568Z",
     "shell.execute_reply.started": "2024-05-14T22:32:12.952738Z"
    },
    "id": "waaqvLh5x8R0",
    "outputId": "295032ea-b699-43ac-fe1a-e34bf2e4f9c7",
    "tags": []
   },
   "outputs": [
    {
     "data": {
      "text/html": [
       "<div>\n",
       "<style scoped>\n",
       "    .dataframe tbody tr th:only-of-type {\n",
       "        vertical-align: middle;\n",
       "    }\n",
       "\n",
       "    .dataframe tbody tr th {\n",
       "        vertical-align: top;\n",
       "    }\n",
       "\n",
       "    .dataframe thead th {\n",
       "        text-align: right;\n",
       "    }\n",
       "</style>\n",
       "<table border=\"1\" class=\"dataframe\">\n",
       "  <thead>\n",
       "    <tr style=\"text-align: right;\">\n",
       "      <th></th>\n",
       "      <th>Accuracy</th>\n",
       "      <th>Precision</th>\n",
       "      <th>Recall</th>\n",
       "      <th>F-score</th>\n",
       "    </tr>\n",
       "  </thead>\n",
       "  <tbody>\n",
       "    <tr>\n",
       "      <th>Логистическая регрессия</th>\n",
       "      <td>0.52</td>\n",
       "      <td>0.51</td>\n",
       "      <td>0.60</td>\n",
       "      <td>0.55</td>\n",
       "    </tr>\n",
       "    <tr>\n",
       "      <th>Метод к-ближайших соседей</th>\n",
       "      <td>0.47</td>\n",
       "      <td>0.45</td>\n",
       "      <td>0.47</td>\n",
       "      <td>0.46</td>\n",
       "    </tr>\n",
       "    <tr>\n",
       "      <th>Случайный лес</th>\n",
       "      <td>0.50</td>\n",
       "      <td>0.49</td>\n",
       "      <td>0.54</td>\n",
       "      <td>0.51</td>\n",
       "    </tr>\n",
       "    <tr>\n",
       "      <th>Градиентный бустинг</th>\n",
       "      <td>0.51</td>\n",
       "      <td>0.49</td>\n",
       "      <td>0.55</td>\n",
       "      <td>0.52</td>\n",
       "    </tr>\n",
       "  </tbody>\n",
       "</table>\n",
       "</div>"
      ],
      "text/plain": [
       "                           Accuracy  Precision  Recall  F-score\n",
       "Логистическая регрессия        0.52       0.51    0.60     0.55\n",
       "Метод к-ближайших соседей      0.47       0.45    0.47     0.46\n",
       "Случайный лес                  0.50       0.49    0.54     0.51\n",
       "Градиентный бустинг            0.51       0.49    0.55     0.52"
      ]
     },
     "execution_count": 16,
     "metadata": {},
     "output_type": "execute_result"
    }
   ],
   "source": [
    "data = pd.read_csv('./Japan_second.csv')\n",
    "result_data = get_results(data)\n",
    "result_data.head()"
   ]
  }
 ],
 "metadata": {
  "colab": {
   "provenance": []
  },
  "kernelspec": {
   "display_name": "DataSphere Kernel",
   "language": "python",
   "name": "python3"
  },
  "language_info": {
   "codemirror_mode": {
    "name": "ipython",
    "version": 3
   },
   "file_extension": ".py",
   "mimetype": "text/x-python",
   "name": "python",
   "nbconvert_exporter": "python",
   "pygments_lexer": "ipython3",
   "version": "3.10.12"
  }
 },
 "nbformat": 4,
 "nbformat_minor": 4
}
