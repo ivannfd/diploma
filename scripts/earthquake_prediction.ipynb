{
  "nbformat": 4,
  "nbformat_minor": 0,
  "metadata": {
    "colab": {
      "provenance": []
    },
    "kernelspec": {
      "name": "python3",
      "display_name": "Python 3"
    },
    "language_info": {
      "name": "python"
    }
  },
  "cells": [
    {
      "cell_type": "code",
      "execution_count": 3,
      "metadata": {
        "id": "62SPNAWJPy5G"
      },
      "outputs": [],
      "source": [
        "import pandas as pd\n",
        "import numpy as np\n",
        "import matplotlib.pyplot as plt\n",
        "from sklearn.model_selection import train_test_split\n",
        "from sklearn.linear_model import LogisticRegression\n",
        "from sklearn.neighbors import KNeighborsClassifier\n",
        "from sklearn.ensemble import RandomForestClassifier\n",
        "from sklearn.ensemble import GradientBoostingClassifier\n",
        "from sklearn.metrics import f1_score, accuracy_score, precision_score, recall_score\n",
        "from sklearn.model_selection import GridSearchCV, cross_val_score"
      ]
    },
    {
      "cell_type": "code",
      "source": [
        "df = pd.read_csv('./final_data.csv')"
      ],
      "metadata": {
        "id": "JlU0IgyhQYj0"
      },
      "execution_count": 4,
      "outputs": []
    },
    {
      "cell_type": "markdown",
      "source": [
        "Если присутствует деление на регионы, то это категориальный признак"
      ],
      "metadata": {
        "id": "XBbIUQbKSYP6"
      }
    },
    {
      "cell_type": "code",
      "source": [
        "if 'region' in df.columns:\n",
        "    df = pd.get_dummies(df, columns=['region'], drop_first=True)"
      ],
      "metadata": {
        "id": "aVSFs2ifSpSB"
      },
      "execution_count": 6,
      "outputs": []
    },
    {
      "cell_type": "code",
      "source": [
        "X = df.drop(columns='target')\n",
        "y = df['target']"
      ],
      "metadata": {
        "id": "7BHUDIumQYtJ"
      },
      "execution_count": 7,
      "outputs": []
    },
    {
      "cell_type": "code",
      "source": [
        "X_train, X_test, y_train, y_test = train_test_split(X, y, test_size=0.2, random_state=42)"
      ],
      "metadata": {
        "id": "_fQB9h4cQ9GD"
      },
      "execution_count": 8,
      "outputs": []
    },
    {
      "cell_type": "markdown",
      "source": [
        "**Логистическая регрессия**"
      ],
      "metadata": {
        "id": "2kFufAYLRMK9"
      }
    },
    {
      "cell_type": "code",
      "source": [
        "model = LogisticRegression(max_iter=1000)\n",
        "model.fit(X_train, y_train)\n",
        "\n",
        "y_pred = model.predict(X_test)\n",
        "\n",
        "print(f'accuracy = {round(accuracy_score(y_test, y_pred), 2)}')\n",
        "print(f'precision = {round(precision_score(y_test, y_pred), 2)}')\n",
        "print(f'recall = {round(recall_score(y_test, y_pred), 2)}')\n",
        "print(f'f1 = {round(f1_score(y_test, y_pred), 2)}')"
      ],
      "metadata": {
        "colab": {
          "base_uri": "https://localhost:8080/"
        },
        "id": "AOESZyeQRUC1",
        "outputId": "55cfd1c2-c3f1-462a-cd24-8b3ca838fd5d"
      },
      "execution_count": 9,
      "outputs": [
        {
          "output_type": "stream",
          "name": "stdout",
          "text": [
            "accuracy = 0.6\n",
            "precision = 0.61\n",
            "recall = 0.68\n",
            "f1 = 0.64\n"
          ]
        }
      ]
    },
    {
      "cell_type": "markdown",
      "source": [
        "**Метод ближайших соседей**"
      ],
      "metadata": {
        "id": "d2YwbLjTSTf_"
      }
    },
    {
      "cell_type": "code",
      "source": [
        "model = KNeighborsClassifier(n_neighbors=5)\n",
        "model.fit(X_train, y_train)\n",
        "\n",
        "y_pred = model.predict(X_test)\n",
        "\n",
        "print(f'accuracy = {round(accuracy_score(y_test, y_pred), 2)}')\n",
        "print(f'precision = {round(precision_score(y_test, y_pred), 2)}')\n",
        "print(f'recall = {round(recall_score(y_test, y_pred), 2)}')\n",
        "print(f'f1 = {round(f1_score(y_test, y_pred), 2)}')"
      ],
      "metadata": {
        "colab": {
          "base_uri": "https://localhost:8080/"
        },
        "id": "4BfnpwDqSTCU",
        "outputId": "ff79f531-7131-457a-d65d-b4894abe7bb2"
      },
      "execution_count": 10,
      "outputs": [
        {
          "output_type": "stream",
          "name": "stdout",
          "text": [
            "accuracy = 0.62\n",
            "precision = 0.64\n",
            "recall = 0.64\n",
            "f1 = 0.64\n"
          ]
        }
      ]
    },
    {
      "cell_type": "markdown",
      "source": [
        "**Случайный лес**"
      ],
      "metadata": {
        "id": "c4WIclH9Ulu0"
      }
    },
    {
      "cell_type": "markdown",
      "source": [
        "Для подбора гиперпараметров воспользуемся поиском по сетке"
      ],
      "metadata": {
        "id": "Ko8E7SqPVUxN"
      }
    },
    {
      "cell_type": "code",
      "source": [
        "params = {\n",
        "    'criterion': ['gini', 'entropy'],\n",
        "    'n_estimators': [100, 200, 400]\n",
        "    }\n",
        "grid = GridSearchCV(RandomForestClassifier(random_state=42), params, cv=5)\n",
        "grid.fit(X, y)\n",
        "grid.best_params_"
      ],
      "metadata": {
        "colab": {
          "base_uri": "https://localhost:8080/"
        },
        "id": "QxkInukTVS68",
        "outputId": "bc6545c5-47cb-4437-ace7-4ed0cc339545"
      },
      "execution_count": 11,
      "outputs": [
        {
          "output_type": "execute_result",
          "data": {
            "text/plain": [
              "{'criterion': 'gini', 'n_estimators': 400}"
            ]
          },
          "metadata": {},
          "execution_count": 11
        }
      ]
    },
    {
      "cell_type": "code",
      "source": [
        "model = RandomForestClassifier(criterion='gini', n_estimators=400)\n",
        "model.fit(X_train, y_train)\n",
        "\n",
        "y_pred = model.predict(X_test)\n",
        "\n",
        "print(f'accuracy = {round(accuracy_score(y_test, y_pred), 2)}')\n",
        "print(f'precision = {round(precision_score(y_test, y_pred), 2)}')\n",
        "print(f'recall = {round(recall_score(y_test, y_pred), 2)}')\n",
        "print(f'f1 = {round(f1_score(y_test, y_pred), 2)}')"
      ],
      "metadata": {
        "colab": {
          "base_uri": "https://localhost:8080/"
        },
        "id": "ZZve_A-AVJwe",
        "outputId": "60c59e3b-f902-4c4e-97b7-580ca3c98eaa"
      },
      "execution_count": 12,
      "outputs": [
        {
          "output_type": "stream",
          "name": "stdout",
          "text": [
            "accuracy = 0.69\n",
            "precision = 0.73\n",
            "recall = 0.65\n",
            "f1 = 0.69\n"
          ]
        }
      ]
    },
    {
      "cell_type": "markdown",
      "source": [
        "**Градиентный бустинг**"
      ],
      "metadata": {
        "id": "l8c8M4FhW0PB"
      }
    },
    {
      "cell_type": "markdown",
      "source": [
        "Для подбора гиперпараметров воспользуемся поиском по сетке"
      ],
      "metadata": {
        "id": "Ndavi-pwXUJ6"
      }
    },
    {
      "cell_type": "code",
      "source": [
        "params = {\n",
        "    'n_estimators': [100, 200, 400],\n",
        "    }\n",
        "grid = GridSearchCV(GradientBoostingClassifier(random_state=42), params, cv=5)\n",
        "grid.fit(X, y)\n",
        "grid.best_params_"
      ],
      "metadata": {
        "colab": {
          "base_uri": "https://localhost:8080/"
        },
        "id": "LCiXD1nFXk4Z",
        "outputId": "191e3945-6ab0-4c4e-fcff-945333116c97"
      },
      "execution_count": 14,
      "outputs": [
        {
          "output_type": "execute_result",
          "data": {
            "text/plain": [
              "{'n_estimators': 400}"
            ]
          },
          "metadata": {},
          "execution_count": 14
        }
      ]
    },
    {
      "cell_type": "code",
      "source": [
        "model = GradientBoostingClassifier(n_estimators=400)\n",
        "model.fit(X_train, y_train)\n",
        "\n",
        "y_pred = model.predict(X_test)\n",
        "\n",
        "print(f'accuracy = {round(accuracy_score(y_test, y_pred), 2)}')\n",
        "print(f'precision = {round(precision_score(y_test, y_pred), 2)}')\n",
        "print(f'recall = {round(recall_score(y_test, y_pred), 2)}')\n",
        "print(f'f1 = {round(f1_score(y_test, y_pred), 2)}')\n",
        "\n"
      ],
      "metadata": {
        "colab": {
          "base_uri": "https://localhost:8080/"
        },
        "id": "sfxgaju-XMTD",
        "outputId": "3a04ce2a-36c3-439f-c948-af25c6e47a29"
      },
      "execution_count": 15,
      "outputs": [
        {
          "output_type": "stream",
          "name": "stdout",
          "text": [
            "accuracy = 0.7\n",
            "precision = 0.72\n",
            "recall = 0.69\n",
            "f1 = 0.71\n"
          ]
        }
      ]
    }
  ]
}